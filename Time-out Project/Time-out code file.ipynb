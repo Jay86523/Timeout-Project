{
 "cells": [
  {
   "cell_type": "code",
   "execution_count": null,
   "id": "15c5567a",
   "metadata": {},
   "outputs": [],
   "source": [
    "import time\n",
    "\n",
    "my_time= int(input(\"Enter the time \"))\n",
    "for x in reversed(range(0,my_time)):\n",
    "    seconds= x % 60\n",
    "    minutes = int(x/60)% 60\n",
    "    print(f\"{minutes:02}:{seconds:02}\",end=\"\\r\")\n",
    "    time.sleep(1)\n",
    "\n",
    "print(\"Time's Up\")"
   ]
  }
 ],
 "metadata": {
  "kernelspec": {
   "display_name": "Python 3 (ipykernel)",
   "language": "python",
   "name": "python3"
  },
  "language_info": {
   "codemirror_mode": {
    "name": "ipython",
    "version": 3
   },
   "file_extension": ".py",
   "mimetype": "text/x-python",
   "name": "python",
   "nbconvert_exporter": "python",
   "pygments_lexer": "ipython3",
   "version": "3.7.13"
  },
  "varInspector": {
   "cols": {
    "lenName": 16,
    "lenType": 16,
    "lenVar": 40
   },
   "kernels_config": {
    "python": {
     "delete_cmd_postfix": "",
     "delete_cmd_prefix": "del ",
     "library": "var_list.py",
     "varRefreshCmd": "print(var_dic_list())"
    },
    "r": {
     "delete_cmd_postfix": ") ",
     "delete_cmd_prefix": "rm(",
     "library": "var_list.r",
     "varRefreshCmd": "cat(var_dic_list()) "
    }
   },
   "types_to_exclude": [
    "module",
    "function",
    "builtin_function_or_method",
    "instance",
    "_Feature"
   ],
   "window_display": false
  }
 },
 "nbformat": 4,
 "nbformat_minor": 5
}
